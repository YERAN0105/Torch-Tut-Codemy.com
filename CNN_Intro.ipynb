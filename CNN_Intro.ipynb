{
 "cells": [
  {
   "cell_type": "markdown",
   "metadata": {},
   "source": [
    "## Convolutional Neural Network Intro - Deep Learning with PyTorch 10"
   ]
  },
  {
   "cell_type": "markdown",
   "metadata": {},
   "source": [
    "![alt text](59954intro_to_CNN.jfif \"A typical CNN model\")"
   ]
  },
  {
   "cell_type": "markdown",
   "metadata": {},
   "source": [
    "## Image Filter / Image Kernel Overview - Deep Learning with PyTorch 11"
   ]
  },
  {
   "cell_type": "markdown",
   "metadata": {},
   "source": [
    "![alt text](image.png \"Conversion of image to Matrix\")"
   ]
  },
  {
   "cell_type": "markdown",
   "metadata": {},
   "source": [
    "![alt text](convolutional-layer.jpg \"Convolutional layer\")"
   ]
  },
  {
   "cell_type": "markdown",
   "metadata": {},
   "source": [
    "Convolution is creating a little matrix and dragging it all over the image"
   ]
  },
  {
   "cell_type": "markdown",
   "metadata": {},
   "source": [
    "Image kernels explained visually: https://setosa.io/ev/image-kernels/"
   ]
  },
  {
   "cell_type": "markdown",
   "metadata": {},
   "source": [
    "## Convolutional Layer and RGB - Deep Learning with PyTorch 12"
   ]
  },
  {
   "cell_type": "markdown",
   "metadata": {},
   "source": [
    "In Convolutional layer, layers are not fully connected they are Locally connected beacuse when it comes to larger images(colored images) it requires lot of processing power."
   ]
  },
  {
   "cell_type": "markdown",
   "metadata": {},
   "source": [
    "![alt text](locally_connected.png \"Locally connected layers\")"
   ]
  },
  {
   "cell_type": "markdown",
   "metadata": {},
   "source": [
    "Colored images are made us with RGB. CNN will split each of those channels up so you'll have height width red, height width green and height width blue and those blue images red images and green images will be different intensities based on the color of the picture "
   ]
  },
  {
   "cell_type": "markdown",
   "metadata": {},
   "source": [
    "## Pooling Layer in Convolutional Neural Network - Deep Learning with PyTorch 13"
   ]
  },
  {
   "cell_type": "markdown",
   "metadata": {},
   "source": [
    "![alt text](pooling.png \"Pooling\")"
   ]
  },
  {
   "cell_type": "markdown",
   "metadata": {},
   "source": [
    "There are various methods of pooling such as max pooling and average pooling. The above example is about a max pooling layer"
   ]
  },
  {
   "cell_type": "markdown",
   "metadata": {},
   "source": [
    "There are two common types of pooling:\n",
    "\n",
    "1.  Max Pooling: This operation selects the maximum value from each patch of the feature map. It focuses on the most prominent features within the patch.\n",
    "\n",
    "*  Example: For a 2x2 pooling window, if the values are [1, 3, 2, 4], max pooling would select 4.\n",
    "\n",
    "\n",
    "2.  Average Pooling: This operation calculates the average value of each patch of the feature map. It retains the average of features, preserving more subtle patterns.\n",
    "\n",
    "*  Example: For a 2x2 pooling window, if the values are [1, 3, 2, 4], average pooling would compute (1+3+2+4)/4 = 2.5."
   ]
  },
  {
   "cell_type": "markdown",
   "metadata": {},
   "source": []
  }
 ],
 "metadata": {
  "kernelspec": {
   "display_name": "base",
   "language": "python",
   "name": "python3"
  },
  "language_info": {
   "codemirror_mode": {
    "name": "ipython",
    "version": 3
   },
   "file_extension": ".py",
   "mimetype": "text/x-python",
   "name": "python",
   "nbconvert_exporter": "python",
   "pygments_lexer": "ipython3",
   "version": "3.12.4"
  }
 },
 "nbformat": 4,
 "nbformat_minor": 2
}
