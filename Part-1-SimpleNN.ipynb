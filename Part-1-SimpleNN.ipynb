{
 "cells": [
  {
   "cell_type": "markdown",
   "id": "a5ddb1cdaa339134",
   "metadata": {},
   "source": [
    "# Creating a Basic Neural Network Model using Pytorch - 1"
   ]
  },
  {
   "cell_type": "code",
   "execution_count": 114,
   "id": "initial_id",
   "metadata": {
    "ExecuteTime": {
     "end_time": "2024-09-18T10:59:09.485429Z",
     "start_time": "2024-09-18T10:59:05.926942Z"
    },
    "collapsed": true
   },
   "outputs": [],
   "source": [
    "import torch\n",
    "import torch.nn as nn\n",
    "import torch.nn.functional as F"
   ]
  },
  {
   "cell_type": "code",
   "execution_count": 115,
   "id": "491215eb2931a172",
   "metadata": {
    "ExecuteTime": {
     "end_time": "2024-09-18T10:59:09.490079Z",
     "start_time": "2024-09-18T10:59:09.486436Z"
    }
   },
   "outputs": [],
   "source": [
    "#Create a Model Class that inherits nn.Modules\n",
    "class Model(nn.Module):\n",
    "    # Input layer (4 features of the flower) -->\n",
    "    # Hidden layer 1 (number of neurones) -->\n",
    "    # H2 (n) -->\n",
    "    # output (3 classes of iris flowers)\n",
    "    def __init__(self, in_features=4, h1=8, h2=9, out_features=3):\n",
    "        super().__init__() #instantiate our nn.Module\n",
    "        self.fc1 = nn.Linear(in_features, h1) #layer 1\n",
    "        self.fc2 = nn.Linear(h1,h2) # layer 2\n",
    "        self.out = nn.Linear(h2,out_features) # output layer\n",
    "        \n",
    "    def forward(self,x):\n",
    "        x = F.relu(self.fc1(x))\n",
    "        x = F.relu(self.fc2(x))\n",
    "        x = self.out(x)\n",
    "        \n",
    "        return x"
   ]
  },
  {
   "cell_type": "code",
   "execution_count": 116,
   "id": "4da96013e311e882",
   "metadata": {
    "ExecuteTime": {
     "end_time": "2024-09-18T10:59:09.518221Z",
     "start_time": "2024-09-18T10:59:09.490079Z"
    }
   },
   "outputs": [],
   "source": [
    "# Pick a manual seed for randomization\n",
    "torch.manual_seed(31)\n",
    "# Create an instance of model\n",
    "model = Model()"
   ]
  },
  {
   "cell_type": "markdown",
   "id": "14963ce7f105759a",
   "metadata": {},
   "source": [
    "# Load Data and Train Neural Network Model - 2"
   ]
  },
  {
   "cell_type": "code",
   "execution_count": 117,
   "id": "5a178803097fb525",
   "metadata": {
    "ExecuteTime": {
     "end_time": "2024-09-18T10:59:10.540813Z",
     "start_time": "2024-09-18T10:59:09.519229Z"
    }
   },
   "outputs": [],
   "source": [
    "import pandas as pd\n",
    "import matplotlib.pyplot as plt \n",
    "%matplotlib inline"
   ]
  },
  {
   "cell_type": "markdown",
   "id": "200677e3012aa07b",
   "metadata": {},
   "source": []
  },
  {
   "cell_type": "code",
   "execution_count": 118,
   "id": "df633866d390bfcb",
   "metadata": {
    "ExecuteTime": {
     "end_time": "2024-09-18T10:59:10.565898Z",
     "start_time": "2024-09-18T10:59:10.541821Z"
    }
   },
   "outputs": [],
   "source": [
    "my_df = pd.read_csv(\"iris.data\")"
   ]
  },
  {
   "cell_type": "code",
   "execution_count": 119,
   "id": "ac7d5e14913d2286",
   "metadata": {
    "ExecuteTime": {
     "end_time": "2024-09-18T10:59:10.580649Z",
     "start_time": "2024-09-18T10:59:10.566902Z"
    }
   },
   "outputs": [
    {
     "data": {
      "text/html": [
       "<div>\n",
       "<style scoped>\n",
       "    .dataframe tbody tr th:only-of-type {\n",
       "        vertical-align: middle;\n",
       "    }\n",
       "\n",
       "    .dataframe tbody tr th {\n",
       "        vertical-align: top;\n",
       "    }\n",
       "\n",
       "    .dataframe thead th {\n",
       "        text-align: right;\n",
       "    }\n",
       "</style>\n",
       "<table border=\"1\" class=\"dataframe\">\n",
       "  <thead>\n",
       "    <tr style=\"text-align: right;\">\n",
       "      <th></th>\n",
       "      <th>sepal_length</th>\n",
       "      <th>sepal_width</th>\n",
       "      <th>petal_length</th>\n",
       "      <th>petal_width</th>\n",
       "      <th>variety</th>\n",
       "    </tr>\n",
       "  </thead>\n",
       "  <tbody>\n",
       "    <tr>\n",
       "      <th>0</th>\n",
       "      <td>4.9</td>\n",
       "      <td>3.0</td>\n",
       "      <td>1.4</td>\n",
       "      <td>0.2</td>\n",
       "      <td>Iris-setosa</td>\n",
       "    </tr>\n",
       "    <tr>\n",
       "      <th>1</th>\n",
       "      <td>4.7</td>\n",
       "      <td>3.2</td>\n",
       "      <td>1.3</td>\n",
       "      <td>0.2</td>\n",
       "      <td>Iris-setosa</td>\n",
       "    </tr>\n",
       "    <tr>\n",
       "      <th>2</th>\n",
       "      <td>4.6</td>\n",
       "      <td>3.1</td>\n",
       "      <td>1.5</td>\n",
       "      <td>0.2</td>\n",
       "      <td>Iris-setosa</td>\n",
       "    </tr>\n",
       "    <tr>\n",
       "      <th>3</th>\n",
       "      <td>5.0</td>\n",
       "      <td>3.6</td>\n",
       "      <td>1.4</td>\n",
       "      <td>0.2</td>\n",
       "      <td>Iris-setosa</td>\n",
       "    </tr>\n",
       "    <tr>\n",
       "      <th>4</th>\n",
       "      <td>5.4</td>\n",
       "      <td>3.9</td>\n",
       "      <td>1.7</td>\n",
       "      <td>0.4</td>\n",
       "      <td>Iris-setosa</td>\n",
       "    </tr>\n",
       "    <tr>\n",
       "      <th>...</th>\n",
       "      <td>...</td>\n",
       "      <td>...</td>\n",
       "      <td>...</td>\n",
       "      <td>...</td>\n",
       "      <td>...</td>\n",
       "    </tr>\n",
       "    <tr>\n",
       "      <th>144</th>\n",
       "      <td>6.7</td>\n",
       "      <td>3.0</td>\n",
       "      <td>5.2</td>\n",
       "      <td>2.3</td>\n",
       "      <td>Iris-virginica</td>\n",
       "    </tr>\n",
       "    <tr>\n",
       "      <th>145</th>\n",
       "      <td>6.3</td>\n",
       "      <td>2.5</td>\n",
       "      <td>5.0</td>\n",
       "      <td>1.9</td>\n",
       "      <td>Iris-virginica</td>\n",
       "    </tr>\n",
       "    <tr>\n",
       "      <th>146</th>\n",
       "      <td>6.5</td>\n",
       "      <td>3.0</td>\n",
       "      <td>5.2</td>\n",
       "      <td>2.0</td>\n",
       "      <td>Iris-virginica</td>\n",
       "    </tr>\n",
       "    <tr>\n",
       "      <th>147</th>\n",
       "      <td>6.2</td>\n",
       "      <td>3.4</td>\n",
       "      <td>5.4</td>\n",
       "      <td>2.3</td>\n",
       "      <td>Iris-virginica</td>\n",
       "    </tr>\n",
       "    <tr>\n",
       "      <th>148</th>\n",
       "      <td>5.9</td>\n",
       "      <td>3.0</td>\n",
       "      <td>5.1</td>\n",
       "      <td>1.8</td>\n",
       "      <td>Iris-virginica</td>\n",
       "    </tr>\n",
       "  </tbody>\n",
       "</table>\n",
       "<p>149 rows × 5 columns</p>\n",
       "</div>"
      ],
      "text/plain": [
       "     sepal_length  sepal_width  petal_length  petal_width         variety\n",
       "0             4.9          3.0           1.4          0.2     Iris-setosa\n",
       "1             4.7          3.2           1.3          0.2     Iris-setosa\n",
       "2             4.6          3.1           1.5          0.2     Iris-setosa\n",
       "3             5.0          3.6           1.4          0.2     Iris-setosa\n",
       "4             5.4          3.9           1.7          0.4     Iris-setosa\n",
       "..            ...          ...           ...          ...             ...\n",
       "144           6.7          3.0           5.2          2.3  Iris-virginica\n",
       "145           6.3          2.5           5.0          1.9  Iris-virginica\n",
       "146           6.5          3.0           5.2          2.0  Iris-virginica\n",
       "147           6.2          3.4           5.4          2.3  Iris-virginica\n",
       "148           5.9          3.0           5.1          1.8  Iris-virginica\n",
       "\n",
       "[149 rows x 5 columns]"
      ]
     },
     "execution_count": 119,
     "metadata": {},
     "output_type": "execute_result"
    }
   ],
   "source": [
    "my_df.columns = ['sepal_length', 'sepal_width', 'petal_length', 'petal_width', 'variety']\n",
    "my_df"
   ]
  },
  {
   "cell_type": "code",
   "execution_count": 120,
   "id": "add6b16634171e1",
   "metadata": {
    "ExecuteTime": {
     "end_time": "2024-09-18T10:59:10.586892Z",
     "start_time": "2024-09-18T10:59:10.581655Z"
    }
   },
   "outputs": [
    {
     "data": {
      "text/plain": [
       "array(['Iris-setosa', 'Iris-versicolor', 'Iris-virginica'], dtype=object)"
      ]
     },
     "execution_count": 120,
     "metadata": {},
     "output_type": "execute_result"
    }
   ],
   "source": [
    "my_df.variety.unique()"
   ]
  },
  {
   "cell_type": "code",
   "execution_count": 121,
   "id": "5d615a0d775cd659",
   "metadata": {
    "ExecuteTime": {
     "end_time": "2024-09-18T10:59:10.594707Z",
     "start_time": "2024-09-18T10:59:10.587898Z"
    }
   },
   "outputs": [
    {
     "name": "stderr",
     "output_type": "stream",
     "text": [
      "C:\\Users\\Lenovo\\AppData\\Local\\Temp\\ipykernel_36956\\2760847642.py:4: FutureWarning: Downcasting behavior in `replace` is deprecated and will be removed in a future version. To retain the old behavior, explicitly call `result.infer_objects(copy=False)`. To opt-in to the future behavior, set `pd.set_option('future.no_silent_downcasting', True)`\n",
      "  my_df['variety'] = my_df['variety'].replace('Iris-virginica', 2)\n"
     ]
    }
   ],
   "source": [
    "# Change last column to integer so the model can understand the class\n",
    "my_df['variety'] = my_df['variety'].replace('Iris-setosa', 0)\n",
    "my_df['variety'] = my_df['variety'].replace('Iris-versicolor', 1)\n",
    "my_df['variety'] = my_df['variety'].replace('Iris-virginica', 2)"
   ]
  },
  {
   "cell_type": "code",
   "execution_count": 122,
   "id": "5df0fccde1fb8d35",
   "metadata": {
    "ExecuteTime": {
     "end_time": "2024-09-18T10:59:10.602558Z",
     "start_time": "2024-09-18T10:59:10.595712Z"
    }
   },
   "outputs": [
    {
     "data": {
      "text/plain": [
       "array([0, 1, 2], dtype=int64)"
      ]
     },
     "execution_count": 122,
     "metadata": {},
     "output_type": "execute_result"
    }
   ],
   "source": [
    "my_df.variety.unique()"
   ]
  },
  {
   "cell_type": "code",
   "execution_count": 123,
   "id": "c7038d39b70407b0",
   "metadata": {
    "ExecuteTime": {
     "end_time": "2024-09-18T10:59:10.611181Z",
     "start_time": "2024-09-18T10:59:10.603562Z"
    }
   },
   "outputs": [],
   "source": [
    "X = my_df.drop(['variety'], axis=1)\n",
    "y = my_df['variety']"
   ]
  },
  {
   "cell_type": "code",
   "execution_count": 124,
   "id": "c084190ae8877a26",
   "metadata": {
    "ExecuteTime": {
     "end_time": "2024-09-18T10:59:13.171868Z",
     "start_time": "2024-09-18T10:59:13.167938Z"
    }
   },
   "outputs": [],
   "source": [
    "#Convert these to numpy arrays\n",
    "X = X.values\n",
    "y = y.values"
   ]
  },
  {
   "cell_type": "code",
   "execution_count": 125,
   "id": "576b64b570ce81c1",
   "metadata": {
    "ExecuteTime": {
     "end_time": "2024-09-18T10:59:56.823620Z",
     "start_time": "2024-09-18T10:59:56.110073Z"
    }
   },
   "outputs": [],
   "source": [
    "from sklearn.model_selection import train_test_split"
   ]
  },
  {
   "cell_type": "code",
   "execution_count": 126,
   "id": "4d64abfacb1c931d",
   "metadata": {
    "ExecuteTime": {
     "end_time": "2024-09-18T11:01:04.692862Z",
     "start_time": "2024-09-18T11:01:04.688468Z"
    }
   },
   "outputs": [],
   "source": [
    "# Train Test Split\n",
    "X_train, X_test, y_train, y_test = train_test_split(X, y, test_size=0.2, random_state=31)"
   ]
  },
  {
   "cell_type": "code",
   "execution_count": 127,
   "id": "21f658b0cfbb78cb",
   "metadata": {
    "ExecuteTime": {
     "end_time": "2024-09-18T11:08:57.978216Z",
     "start_time": "2024-09-18T11:08:57.967284Z"
    }
   },
   "outputs": [],
   "source": [
    "# Convert X Features to float tensors\n",
    "X_train = torch.FloatTensor(X_train)\n",
    "X_test = torch.FloatTensor(X_test)"
   ]
  },
  {
   "cell_type": "code",
   "execution_count": 128,
   "id": "149a33feee81d886",
   "metadata": {},
   "outputs": [],
   "source": [
    "# Convert y labels to tensors long\n",
    "y_train = torch.LongTensor(y_train)\n",
    "y_test = torch.LongTensor(y_test)"
   ]
  },
  {
   "cell_type": "code",
   "execution_count": 129,
   "id": "87adc2201c19568d",
   "metadata": {},
   "outputs": [],
   "source": [
    "# Set the criterion of model to measure the error, how far off the predictions are from the data\n",
    "criterion = nn.CrossEntropyLoss()\n",
    "# Choose Adam Optimizer, lr = learning rate (if error doesn't go down after a bunch of iteration (epochs), lower our learning rate)\n",
    "optimizer = torch.optim.Adam(model.parameters(), lr=0.005) # The lower your learning rate the longer the model takes to train"
   ]
  },
  {
   "cell_type": "code",
   "execution_count": 130,
   "id": "223659eb",
   "metadata": {},
   "outputs": [
    {
     "data": {
      "text/plain": [
       "<bound method Module.parameters of Model(\n",
       "  (fc1): Linear(in_features=4, out_features=8, bias=True)\n",
       "  (fc2): Linear(in_features=8, out_features=9, bias=True)\n",
       "  (out): Linear(in_features=9, out_features=3, bias=True)\n",
       ")>"
      ]
     },
     "execution_count": 130,
     "metadata": {},
     "output_type": "execute_result"
    }
   ],
   "source": [
    "model.parameters"
   ]
  },
  {
   "cell_type": "code",
   "execution_count": 131,
   "id": "6e45a09b",
   "metadata": {},
   "outputs": [
    {
     "name": "stdout",
     "output_type": "stream",
     "text": [
      "Epochs: 0 and loss: 1.0947797298431396\n",
      "Epochs: 10 and loss: 1.0125598907470703\n",
      "Epochs: 20 and loss: 0.9453644156455994\n",
      "Epochs: 30 and loss: 0.8488494753837585\n",
      "Epochs: 40 and loss: 0.7337754964828491\n",
      "Epochs: 50 and loss: 0.6120119690895081\n",
      "Epochs: 60 and loss: 0.509672999382019\n",
      "Epochs: 70 and loss: 0.43485549092292786\n",
      "Epochs: 80 and loss: 0.37888211011886597\n",
      "Epochs: 90 and loss: 0.3312995135784149\n",
      "Epochs: 100 and loss: 0.28670257329940796\n",
      "Epochs: 110 and loss: 0.24434632062911987\n",
      "Epochs: 120 and loss: 0.20602956414222717\n",
      "Epochs: 130 and loss: 0.17358413338661194\n",
      "Epochs: 140 and loss: 0.14768455922603607\n",
      "Epochs: 150 and loss: 0.12774844467639923\n",
      "Epochs: 160 and loss: 0.1126408502459526\n",
      "Epochs: 170 and loss: 0.10119116306304932\n",
      "Epochs: 180 and loss: 0.09243039041757584\n",
      "Epochs: 190 and loss: 0.08562643826007843\n"
     ]
    }
   ],
   "source": [
    "# train our model\n",
    "#Epochs? (one run thru all the training data in our network)\n",
    "epochs = 200\n",
    "losses = []\n",
    "for i in range(epochs):\n",
    "    # Go forward to get a prediction\n",
    "    y_pred = model.forward(X_train) # Get predicted results\n",
    "\n",
    "    # Measure the loss/error, gonna be high at first\n",
    "    loss = criterion(y_pred,y_train) # Preicted values vs y_train\n",
    "\n",
    "    # Keep track of our losses\n",
    "    losses.append(loss.detach().numpy())\n",
    "\n",
    "    # print every 10 epoch\n",
    "    if i % 10 == 0:\n",
    "        print(f'Epochs: {i} and loss: {loss}')\n",
    "\n",
    "    # Do some back propagation: take the error rate of forward propagation and feed it back\n",
    "    # thru the network to fine tune the weights\n",
    "    optimizer.zero_grad()\n",
    "    loss.backward()\n",
    "    optimizer.step()"
   ]
  },
  {
   "cell_type": "code",
   "execution_count": 132,
   "id": "52b600e5",
   "metadata": {},
   "outputs": [
    {
     "data": {
      "text/plain": [
       "Text(0.5, 0, 'Epochs')"
      ]
     },
     "execution_count": 132,
     "metadata": {},
     "output_type": "execute_result"
    },
    {
     "data": {
      "image/png": "[encoded data removed]",
      "text/plain": [
       "<Figure size 640x480 with 1 Axes>"
      ]
     },
     "metadata": {},
     "output_type": "display_data"
    }
   ],
   "source": [
    "# Graph it out!\n",
    "plt.plot(range(epochs), losses)\n",
    "plt.ylabel(\"loss/error\")\n",
    "plt.xlabel(\"Epochs\")"
   ]
  },
  {
   "cell_type": "markdown",
   "id": "02a1bab6",
   "metadata": {},
   "source": [
    "## Evaluate Test Data Set On Network - Deep Learning with PyTorch 7"
   ]
  },
  {
   "cell_type": "code",
   "execution_count": 133,
   "id": "5f7bb955",
   "metadata": {},
   "outputs": [],
   "source": [
    "# Evaluate the Model on test data set (validate model on test set)\n",
    "with torch.no_grad(): # Basically turn off back propogation\n",
    "    y_eval = model.forward(X_test) # X_test are features from our test set, y_eval will be predictions\n",
    "    loss = criterion(y_eval, y_test) # Find the loss/error"
   ]
  },
  {
   "cell_type": "code",
   "execution_count": 134,
   "id": "39145980",
   "metadata": {},
   "outputs": [
    {
     "data": {
      "text/plain": [
       "tensor(0.0650)"
      ]
     },
     "execution_count": 134,
     "metadata": {},
     "output_type": "execute_result"
    }
   ],
   "source": [
    "loss"
   ]
  },
  {
   "cell_type": "code",
   "execution_count": 136,
   "id": "2090e688",
   "metadata": {},
   "outputs": [
    {
     "name": "stdout",
     "output_type": "stream",
     "text": [
      "1.) tensor([  8.3674,   3.2339, -11.5963]) \t 0 \t 0\n",
      "2.) tensor([-4.9749,  2.8553,  7.0912]) \t 2 \t 2\n",
      "3.) tensor([  9.5564,   3.6078, -13.2875]) \t 0 \t 0\n",
      "4.) tensor([-5.9648,  3.2094,  8.4638]) \t 2 \t 2\n",
      "5.) tensor([-1.5690,  4.9820,  1.6592]) \t 1 \t 1\n",
      "6.) tensor([-1.3674,  4.4274,  1.4820]) \t 1 \t 1\n",
      "7.) tensor([-0.8521,  4.9862,  0.6098]) \t 1 \t 1\n",
      "8.) tensor([  8.5124,   3.2792, -11.8021]) \t 0 \t 0\n",
      "9.) tensor([  9.1824,   3.4865, -12.7553]) \t 0 \t 0\n",
      "10.) tensor([  8.9559,   3.4158, -12.4331]) \t 0 \t 0\n",
      "11.) tensor([-3.8048,  3.9792,  5.1417]) \t 2 \t 2\n",
      "12.) tensor([-3.2894,  3.9023,  4.4042]) \t 2 \t 2\n",
      "13.) tensor([-4.2623,  3.7332,  5.8630]) \t 2 \t 2\n",
      "14.) tensor([ 0.2516,  4.7776, -0.8890]) \t 1 \t 1\n",
      "15.) tensor([-5.7722,  3.6011,  8.0992]) \t 2 \t 2\n",
      "16.) tensor([-1.5418,  4.4977,  1.7221]) \t 1 \t 1\n",
      "17.) tensor([  8.3253,   3.2207, -11.5366]) \t 0 \t 0\n",
      "18.) tensor([-1.7007,  4.8572,  1.8783]) \t 1 \t 1\n",
      "19.) tensor([-0.6944,  5.3452,  0.3031]) \t 1 \t 1\n",
      "20.) tensor([-0.3965,  4.6687,  0.0108]) \t 1 \t 1\n",
      "21.) tensor([-4.4254,  3.8531,  6.0761]) \t 2 \t 2\n",
      "22.) tensor([-5.3539,  3.5261,  7.5032]) \t 2 \t 2\n",
      "23.) tensor([  8.0832,   3.1445, -11.1933]) \t 0 \t 0\n",
      "24.) tensor([-2.4670,  4.0155,  3.1775]) \t 1 \t 1\n",
      "25.) tensor([-1.9972,  4.7060,  2.3440]) \t 1 \t 1\n",
      "26.) tensor([  8.3253,   3.2207, -11.5366]) \t 0 \t 0\n",
      "27.) tensor([-4.2539,  3.7348,  5.8503]) \t 2 \t 2\n",
      "28.) tensor([-0.4145,  4.7484,  0.0203]) \t 1 \t 1\n",
      "29.) tensor([  9.3240,   3.5809, -12.9641]) \t 0 \t 0\n",
      "30.) tensor([-4.5049,  3.4519,  6.2773]) \t 2 \t 2\n",
      "We got 30 out of 30 correctly! \t Correct percentage: 100.0%\n"
     ]
    }
   ],
   "source": [
    "correct = 0\n",
    "with torch.no_grad():\n",
    "    for i, data in enumerate(X_test):\n",
    "        y_val = model.forward(data)\n",
    "\n",
    "        # Will tell us what type of flower class our network think it is\n",
    "        print(f'{i+1}.) {str(y_val)} \\t {y_test[i]} \\t {y_val.argmax().item()}')\n",
    "\n",
    "        # Correct or not\n",
    "        if y_val.argmax().item()  == y_test[i]:\n",
    "            correct+=1\n",
    "\n",
    "print(f'We got {correct} out of {len(y_test)} correctly! \\t Correct percentage: {correct/len(y_test)*100}%')"
   ]
  },
  {
   "cell_type": "markdown",
   "id": "2740f5ae",
   "metadata": {},
   "source": [
    "## Evaluate NEW Data On The Network - Deep Learning with PyTorch 8"
   ]
  },
  {
   "cell_type": "code",
   "execution_count": 139,
   "id": "5677edf4",
   "metadata": {},
   "outputs": [],
   "source": [
    "new_iris = torch.tensor([5.9,3.0,5.1,1.8])"
   ]
  },
  {
   "cell_type": "code",
   "execution_count": 143,
   "id": "046fc8c9",
   "metadata": {},
   "outputs": [
    {
     "name": "stdout",
     "output_type": "stream",
     "text": [
      "tensor([-3.9813,  3.5798,  5.4845])\t2\n"
     ]
    }
   ],
   "source": [
    "with torch.no_grad():\n",
    "    print(f'{model(new_iris)}\\t{model(new_iris).argmax().item()}')"
   ]
  },
  {
   "cell_type": "markdown",
   "id": "9fce361f",
   "metadata": {},
   "source": [
    "## Save and Load our Neural Network Model - Deep Learning with PyTorch 9"
   ]
  },
  {
   "cell_type": "code",
   "execution_count": 144,
   "id": "f88028cb",
   "metadata": {},
   "outputs": [],
   "source": [
    "# Save our NN model\n",
    "torch.save(model.state_dict(), 'my_iris_torch_model.pt')"
   ]
  },
  {
   "cell_type": "code",
   "execution_count": null,
   "id": "0a191a1a",
   "metadata": {},
   "outputs": [],
   "source": []
  }
 ],
 "metadata": {
  "kernelspec": {
   "display_name": "Python 3",
   "language": "python",
   "name": "python3"
  },
  "language_info": {
   "codemirror_mode": {
    "name": "ipython",
    "version": 3
   },
   "file_extension": ".py",
   "mimetype": "text/x-python",
   "name": "python",
   "nbconvert_exporter": "python",
   "pygments_lexer": "ipython3",
   "version": "3.12.4"
  }
 },
 "nbformat": 4,
 "nbformat_minor": 5
}
