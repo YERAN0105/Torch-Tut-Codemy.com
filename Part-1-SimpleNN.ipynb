{
 "cells": [
  {
   "cell_type": "markdown",
   "id": "a5ddb1cdaa339134",
   "metadata": {},
   "source": [
    "# Creating a Basic Neural Network Model using Pytorch - 1"
   ]
  },
  {
   "cell_type": "code",
   "execution_count": 22,
   "id": "initial_id",
   "metadata": {
    "ExecuteTime": {
     "end_time": "2024-09-18T10:59:09.485429Z",
     "start_time": "2024-09-18T10:59:05.926942Z"
    },
    "collapsed": true
   },
   "outputs": [],
   "source": [
    "import torch\n",
    "import torch.nn as nn\n",
    "import torch.nn.functional as F"
   ]
  },
  {
   "cell_type": "code",
   "execution_count": 23,
   "id": "491215eb2931a172",
   "metadata": {
    "ExecuteTime": {
     "end_time": "2024-09-18T10:59:09.490079Z",
     "start_time": "2024-09-18T10:59:09.486436Z"
    }
   },
   "outputs": [],
   "source": [
    "#Create a Model Class that inherits nn.Modules\n",
    "class Model(nn.Module):\n",
    "    # Input layer (4 features of the flower) -->\n",
    "    # Hidden layer 1 (number of neurones) -->\n",
    "    # H2 (n) -->\n",
    "    # output (3 classes of iris flowers)\n",
    "    def __init__(self, in_features=4, h1=8, h2=9, out_features=3):\n",
    "        super().__init__() #instantiate our nn.Module\n",
    "        self.fc1 = nn.Linear(in_features, h1) #layer 1\n",
    "        self.fc2 = nn.Linear(h1,h2) # layer 2\n",
    "        self.out = nn.Linear(h2,out_features) # output layer\n",
    "        \n",
    "    def forward(self,x):\n",
    "        x = F.relu(self.fc1(x))\n",
    "        x = F.relu(self.fc2(x))\n",
    "        x = self.out(x)\n",
    "        \n",
    "        return x"
   ]
  },
  {
   "cell_type": "code",
   "execution_count": 24,
   "id": "4da96013e311e882",
   "metadata": {
    "ExecuteTime": {
     "end_time": "2024-09-18T10:59:09.518221Z",
     "start_time": "2024-09-18T10:59:09.490079Z"
    }
   },
   "outputs": [],
   "source": [
    "# Pick a manual seed for randomization\n",
    "torch.manual_seed(41)\n",
    "# Create an instance of model\n",
    "model = Model()"
   ]
  },
  {
   "cell_type": "markdown",
   "id": "14963ce7f105759a",
   "metadata": {},
   "source": [
    "# Load Data and Train Neural Network Model - 2"
   ]
  },
  {
   "cell_type": "code",
   "execution_count": 25,
   "id": "5a178803097fb525",
   "metadata": {
    "ExecuteTime": {
     "end_time": "2024-09-18T10:59:10.540813Z",
     "start_time": "2024-09-18T10:59:09.519229Z"
    }
   },
   "outputs": [],
   "source": [
    "import pandas as pd\n",
    "import matplotlib.pyplot as plt \n",
    "%matplotlib inline"
   ]
  },
  {
   "cell_type": "markdown",
   "id": "200677e3012aa07b",
   "metadata": {},
   "source": []
  },
  {
   "cell_type": "code",
   "execution_count": 26,
   "id": "df633866d390bfcb",
   "metadata": {
    "ExecuteTime": {
     "end_time": "2024-09-18T10:59:10.565898Z",
     "start_time": "2024-09-18T10:59:10.541821Z"
    }
   },
   "outputs": [],
   "source": [
    "my_df = pd.read_csv(\"iris.data\")"
   ]
  },
  {
   "cell_type": "code",
   "execution_count": 27,
   "id": "ac7d5e14913d2286",
   "metadata": {
    "ExecuteTime": {
     "end_time": "2024-09-18T10:59:10.580649Z",
     "start_time": "2024-09-18T10:59:10.566902Z"
    }
   },
   "outputs": [
    {
     "data": {
      "text/html": [
       "<div>\n",
       "<style scoped>\n",
       "    .dataframe tbody tr th:only-of-type {\n",
       "        vertical-align: middle;\n",
       "    }\n",
       "\n",
       "    .dataframe tbody tr th {\n",
       "        vertical-align: top;\n",
       "    }\n",
       "\n",
       "    .dataframe thead th {\n",
       "        text-align: right;\n",
       "    }\n",
       "</style>\n",
       "<table border=\"1\" class=\"dataframe\">\n",
       "  <thead>\n",
       "    <tr style=\"text-align: right;\">\n",
       "      <th></th>\n",
       "      <th>sepal_length</th>\n",
       "      <th>sepal_width</th>\n",
       "      <th>petal_length</th>\n",
       "      <th>petal_width</th>\n",
       "      <th>variety</th>\n",
       "    </tr>\n",
       "  </thead>\n",
       "  <tbody>\n",
       "    <tr>\n",
       "      <th>0</th>\n",
       "      <td>4.9</td>\n",
       "      <td>3.0</td>\n",
       "      <td>1.4</td>\n",
       "      <td>0.2</td>\n",
       "      <td>Iris-setosa</td>\n",
       "    </tr>\n",
       "    <tr>\n",
       "      <th>1</th>\n",
       "      <td>4.7</td>\n",
       "      <td>3.2</td>\n",
       "      <td>1.3</td>\n",
       "      <td>0.2</td>\n",
       "      <td>Iris-setosa</td>\n",
       "    </tr>\n",
       "    <tr>\n",
       "      <th>2</th>\n",
       "      <td>4.6</td>\n",
       "      <td>3.1</td>\n",
       "      <td>1.5</td>\n",
       "      <td>0.2</td>\n",
       "      <td>Iris-setosa</td>\n",
       "    </tr>\n",
       "    <tr>\n",
       "      <th>3</th>\n",
       "      <td>5.0</td>\n",
       "      <td>3.6</td>\n",
       "      <td>1.4</td>\n",
       "      <td>0.2</td>\n",
       "      <td>Iris-setosa</td>\n",
       "    </tr>\n",
       "    <tr>\n",
       "      <th>4</th>\n",
       "      <td>5.4</td>\n",
       "      <td>3.9</td>\n",
       "      <td>1.7</td>\n",
       "      <td>0.4</td>\n",
       "      <td>Iris-setosa</td>\n",
       "    </tr>\n",
       "    <tr>\n",
       "      <th>...</th>\n",
       "      <td>...</td>\n",
       "      <td>...</td>\n",
       "      <td>...</td>\n",
       "      <td>...</td>\n",
       "      <td>...</td>\n",
       "    </tr>\n",
       "    <tr>\n",
       "      <th>144</th>\n",
       "      <td>6.7</td>\n",
       "      <td>3.0</td>\n",
       "      <td>5.2</td>\n",
       "      <td>2.3</td>\n",
       "      <td>Iris-virginica</td>\n",
       "    </tr>\n",
       "    <tr>\n",
       "      <th>145</th>\n",
       "      <td>6.3</td>\n",
       "      <td>2.5</td>\n",
       "      <td>5.0</td>\n",
       "      <td>1.9</td>\n",
       "      <td>Iris-virginica</td>\n",
       "    </tr>\n",
       "    <tr>\n",
       "      <th>146</th>\n",
       "      <td>6.5</td>\n",
       "      <td>3.0</td>\n",
       "      <td>5.2</td>\n",
       "      <td>2.0</td>\n",
       "      <td>Iris-virginica</td>\n",
       "    </tr>\n",
       "    <tr>\n",
       "      <th>147</th>\n",
       "      <td>6.2</td>\n",
       "      <td>3.4</td>\n",
       "      <td>5.4</td>\n",
       "      <td>2.3</td>\n",
       "      <td>Iris-virginica</td>\n",
       "    </tr>\n",
       "    <tr>\n",
       "      <th>148</th>\n",
       "      <td>5.9</td>\n",
       "      <td>3.0</td>\n",
       "      <td>5.1</td>\n",
       "      <td>1.8</td>\n",
       "      <td>Iris-virginica</td>\n",
       "    </tr>\n",
       "  </tbody>\n",
       "</table>\n",
       "<p>149 rows × 5 columns</p>\n",
       "</div>"
      ],
      "text/plain": [
       "     sepal_length  sepal_width  petal_length  petal_width         variety\n",
       "0             4.9          3.0           1.4          0.2     Iris-setosa\n",
       "1             4.7          3.2           1.3          0.2     Iris-setosa\n",
       "2             4.6          3.1           1.5          0.2     Iris-setosa\n",
       "3             5.0          3.6           1.4          0.2     Iris-setosa\n",
       "4             5.4          3.9           1.7          0.4     Iris-setosa\n",
       "..            ...          ...           ...          ...             ...\n",
       "144           6.7          3.0           5.2          2.3  Iris-virginica\n",
       "145           6.3          2.5           5.0          1.9  Iris-virginica\n",
       "146           6.5          3.0           5.2          2.0  Iris-virginica\n",
       "147           6.2          3.4           5.4          2.3  Iris-virginica\n",
       "148           5.9          3.0           5.1          1.8  Iris-virginica\n",
       "\n",
       "[149 rows x 5 columns]"
      ]
     },
     "execution_count": 27,
     "metadata": {},
     "output_type": "execute_result"
    }
   ],
   "source": [
    "my_df.columns = ['sepal_length', 'sepal_width', 'petal_length', 'petal_width', 'variety']\n",
    "my_df"
   ]
  },
  {
   "cell_type": "code",
   "execution_count": 28,
   "id": "add6b16634171e1",
   "metadata": {
    "ExecuteTime": {
     "end_time": "2024-09-18T10:59:10.586892Z",
     "start_time": "2024-09-18T10:59:10.581655Z"
    }
   },
   "outputs": [
    {
     "data": {
      "text/plain": [
       "array(['Iris-setosa', 'Iris-versicolor', 'Iris-virginica'], dtype=object)"
      ]
     },
     "execution_count": 28,
     "metadata": {},
     "output_type": "execute_result"
    }
   ],
   "source": [
    "my_df.variety.unique()"
   ]
  },
  {
   "cell_type": "code",
   "execution_count": 29,
   "id": "5d615a0d775cd659",
   "metadata": {
    "ExecuteTime": {
     "end_time": "2024-09-18T10:59:10.594707Z",
     "start_time": "2024-09-18T10:59:10.587898Z"
    }
   },
   "outputs": [
    {
     "name": "stderr",
     "output_type": "stream",
     "text": [
      "C:\\Users\\Lenovo\\AppData\\Local\\Temp\\ipykernel_36956\\2760847642.py:4: FutureWarning: Downcasting behavior in `replace` is deprecated and will be removed in a future version. To retain the old behavior, explicitly call `result.infer_objects(copy=False)`. To opt-in to the future behavior, set `pd.set_option('future.no_silent_downcasting', True)`\n",
      "  my_df['variety'] = my_df['variety'].replace('Iris-virginica', 2)\n"
     ]
    }
   ],
   "source": [
    "# Change last column to integer so the model can understand the class\n",
    "my_df['variety'] = my_df['variety'].replace('Iris-setosa', 0)\n",
    "my_df['variety'] = my_df['variety'].replace('Iris-versicolor', 1)\n",
    "my_df['variety'] = my_df['variety'].replace('Iris-virginica', 2)"
   ]
  },
  {
   "cell_type": "code",
   "execution_count": 30,
   "id": "5df0fccde1fb8d35",
   "metadata": {
    "ExecuteTime": {
     "end_time": "2024-09-18T10:59:10.602558Z",
     "start_time": "2024-09-18T10:59:10.595712Z"
    }
   },
   "outputs": [
    {
     "data": {
      "text/plain": [
       "array([0, 1, 2], dtype=int64)"
      ]
     },
     "execution_count": 30,
     "metadata": {},
     "output_type": "execute_result"
    }
   ],
   "source": [
    "my_df.variety.unique()"
   ]
  },
  {
   "cell_type": "code",
   "execution_count": 31,
   "id": "c7038d39b70407b0",
   "metadata": {
    "ExecuteTime": {
     "end_time": "2024-09-18T10:59:10.611181Z",
     "start_time": "2024-09-18T10:59:10.603562Z"
    }
   },
   "outputs": [],
   "source": [
    "X = my_df.drop(['variety'], axis=1)\n",
    "y = my_df['variety']"
   ]
  },
  {
   "cell_type": "code",
   "execution_count": 32,
   "id": "c084190ae8877a26",
   "metadata": {
    "ExecuteTime": {
     "end_time": "2024-09-18T10:59:13.171868Z",
     "start_time": "2024-09-18T10:59:13.167938Z"
    }
   },
   "outputs": [],
   "source": [
    "#Convert these to numpy arrays\n",
    "X = X.values\n",
    "y = y.values"
   ]
  },
  {
   "cell_type": "code",
   "execution_count": 33,
   "id": "576b64b570ce81c1",
   "metadata": {
    "ExecuteTime": {
     "end_time": "2024-09-18T10:59:56.823620Z",
     "start_time": "2024-09-18T10:59:56.110073Z"
    }
   },
   "outputs": [],
   "source": [
    "from sklearn.model_selection import train_test_split"
   ]
  },
  {
   "cell_type": "code",
   "execution_count": 34,
   "id": "4d64abfacb1c931d",
   "metadata": {
    "ExecuteTime": {
     "end_time": "2024-09-18T11:01:04.692862Z",
     "start_time": "2024-09-18T11:01:04.688468Z"
    }
   },
   "outputs": [],
   "source": [
    "# Train Test Split\n",
    "X_train, X_test, y_train, y_test = train_test_split(X, y, test_size=0.2, random_state=41)"
   ]
  },
  {
   "cell_type": "code",
   "execution_count": 35,
   "id": "21f658b0cfbb78cb",
   "metadata": {
    "ExecuteTime": {
     "end_time": "2024-09-18T11:08:57.978216Z",
     "start_time": "2024-09-18T11:08:57.967284Z"
    }
   },
   "outputs": [],
   "source": [
    "# Convert X Features to float tensors\n",
    "X_train = torch.FloatTensor(X_train)\n",
    "X_test = torch.FloatTensor(X_test)"
   ]
  },
  {
   "cell_type": "code",
   "execution_count": 36,
   "id": "149a33feee81d886",
   "metadata": {},
   "outputs": [],
   "source": [
    "# Convert y labels to tensors long\n",
    "y_train = torch.LongTensor(y_train)\n",
    "y_test = torch.LongTensor(y_test)"
   ]
  },
  {
   "cell_type": "code",
   "execution_count": 37,
   "id": "87adc2201c19568d",
   "metadata": {},
   "outputs": [],
   "source": [
    "# Set the criterion of model to measure the error, how far off the predictions are from the data\n",
    "criterion = nn.CrossEntropyLoss()\n",
    "# Choose Adam Optimizer, lr = learning rate (if error doesn't go down after a bunch of iteration (epochs), lower our learning rate)\n",
    "optimizer = torch.optim.Adam(model.parameters(), lr=0.01) # The lower your learning rate the longer the model takes to train"
   ]
  },
  {
   "cell_type": "code",
   "execution_count": 38,
   "id": "223659eb",
   "metadata": {},
   "outputs": [
    {
     "data": {
      "text/plain": [
       "<bound method Module.parameters of Model(\n",
       "  (fc1): Linear(in_features=4, out_features=8, bias=True)\n",
       "  (fc2): Linear(in_features=8, out_features=9, bias=True)\n",
       "  (out): Linear(in_features=9, out_features=3, bias=True)\n",
       ")>"
      ]
     },
     "execution_count": 38,
     "metadata": {},
     "output_type": "execute_result"
    }
   ],
   "source": [
    "model.parameters"
   ]
  },
  {
   "cell_type": "code",
   "execution_count": 39,
   "id": "6e45a09b",
   "metadata": {},
   "outputs": [
    {
     "name": "stdout",
     "output_type": "stream",
     "text": [
      "Epochs: 0 and loss: 1.1254802942276\n",
      "Epochs: 10 and loss: 1.0196183919906616\n",
      "Epochs: 20 and loss: 0.8324087858200073\n",
      "Epochs: 30 and loss: 0.5955133438110352\n",
      "Epochs: 40 and loss: 0.4056708812713623\n",
      "Epochs: 50 and loss: 0.27592799067497253\n",
      "Epochs: 60 and loss: 0.18675486743450165\n",
      "Epochs: 70 and loss: 0.12966136634349823\n",
      "Epochs: 80 and loss: 0.09302735328674316\n",
      "Epochs: 90 and loss: 0.07107434421777725\n",
      "Epochs: 100 and loss: 0.057579055428504944\n",
      "Epochs: 110 and loss: 0.04889124631881714\n",
      "Epochs: 120 and loss: 0.042899809777736664\n",
      "Epochs: 130 and loss: 0.03849733993411064\n",
      "Epochs: 140 and loss: 0.03506268560886383\n",
      "Epochs: 150 and loss: 0.03207792341709137\n",
      "Epochs: 160 and loss: 0.0287015363574028\n",
      "Epochs: 170 and loss: 0.025052959099411964\n",
      "Epochs: 180 and loss: 0.021712876856327057\n",
      "Epochs: 190 and loss: 0.018746912479400635\n"
     ]
    }
   ],
   "source": [
    "# train our model\n",
    "#Epochs? (one run thru all the training data in our network)\n",
    "epochs = 200\n",
    "losses = []\n",
    "for i in range(epochs):\n",
    "    # Go forward to get a prediction\n",
    "    y_pred = model.forward(X_train) # Get predicted results\n",
    "\n",
    "    # Measure the loss/error, gonna be high at first\n",
    "    loss = criterion(y_pred,y_train) # Preicted values vs y_train\n",
    "\n",
    "    # Keep track of our losses\n",
    "    losses.append(loss.detach().numpy())\n",
    "\n",
    "    # print every 10 epoch\n",
    "    if i % 10 == 0:\n",
    "        print(f'Epochs: {i} and loss: {loss}')\n",
    "\n",
    "    # Do some back propagation: take the error rate of forward propagation and feed it back\n",
    "    # thru the network to fine tune the weights\n",
    "    optimizer.zero_grad()\n",
    "    loss.backward()\n",
    "    optimizer.step()"
   ]
  },
  {
   "cell_type": "code",
   "execution_count": 40,
   "id": "52b600e5",
   "metadata": {},
   "outputs": [
    {
     "data": {
      "text/plain": [
       "Text(0.5, 0, 'Epochs')"
      ]
     },
     "execution_count": 40,
     "metadata": {},
     "output_type": "execute_result"
    },
    {
     "data": {
      "image/png": "[encoded data removed]",
      "text/plain": [
       "<Figure size 640x480 with 1 Axes>"
      ]
     },
     "metadata": {},
     "output_type": "display_data"
    }
   ],
   "source": [
    "# Graph it out!\n",
    "plt.plot(range(epochs), losses)\n",
    "plt.ylabel(\"loss/error\")\n",
    "plt.xlabel(\"Epochs\")"
   ]
  },
  {
   "cell_type": "code",
   "execution_count": 41,
   "id": "5f7bb955",
   "metadata": {},
   "outputs": [],
   "source": [
    "# Evaluate the Model on test data set (validate model on test set)\n",
    "with torch.no_grad(): # Basically turn off back propogation\n",
    "    y_eval = model.forward(X_test) # X_test are features from our test set, y_eval will be predictions\n",
    "    loss = criterion(y_eval, y_test) # Find the loss/error"
   ]
  },
  {
   "cell_type": "code",
   "execution_count": 42,
   "id": "39145980",
   "metadata": {},
   "outputs": [
    {
     "data": {
      "text/plain": [
       "tensor(0.1833)"
      ]
     },
     "execution_count": 42,
     "metadata": {},
     "output_type": "execute_result"
    }
   ],
   "source": [
    "loss"
   ]
  },
  {
   "cell_type": "code",
   "execution_count": null,
   "id": "2090e688",
   "metadata": {},
   "outputs": [],
   "source": []
  }
 ],
 "metadata": {
  "kernelspec": {
   "display_name": "Python 3",
   "language": "python",
   "name": "python3"
  },
  "language_info": {
   "codemirror_mode": {
    "name": "ipython",
    "version": 3
   },
   "file_extension": ".py",
   "mimetype": "text/x-python",
   "name": "python",
   "nbconvert_exporter": "python",
   "pygments_lexer": "ipython3",
   "version": "3.12.4"
  }
 },
 "nbformat": 4,
 "nbformat_minor": 5
}
